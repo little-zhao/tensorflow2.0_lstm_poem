{
 "cells": [
  {
   "cell_type": "code",
   "execution_count": 1,
   "metadata": {},
   "outputs": [],
   "source": [
    "import math\n",
    "import re\n",
    "import numpy as np\n",
    "import tensorflow as tf\n",
    "from collections import Counter"
   ]
  },
  {
   "cell_type": "code",
   "execution_count": 2,
   "metadata": {},
   "outputs": [],
   "source": [
    "# 如果使用GPU训练，设置memory_growth\n",
    "gpu=tf.config.experimental.list_physical_devices('GPU')\n",
    "for gp in gpu:\n",
    "    tf.config.experimental.set_memory_growth(gp,True)"
   ]
  },
  {
   "cell_type": "code",
   "execution_count": 3,
   "metadata": {},
   "outputs": [],
   "source": [
    "# 数据路径\n",
    "DATA_PATH = r'poetry.txt'\n",
    "# 单行诗最大长度\n",
    "MAX_LEN = 64\n",
    "# 禁用的字符，拥有以下符号的诗将被忽略\n",
    "DISALLOWED_WORDS = ['（', '）', '(', ')', '__', '《', '》', '【', '】', '[', ']']\n",
    "# 批量大小\n",
    "BATCH_SIZE = 128"
   ]
  },
  {
   "cell_type": "code",
   "execution_count": 4,
   "metadata": {},
   "outputs": [],
   "source": [
    "# 一首诗（一行）对应一个列表的元素\n",
    "poetry = []\n",
    "# 按行读取数据 poetry.txt\n",
    "with open(DATA_PATH, 'r', encoding='utf-8') as f:\n",
    "    lines = f.readlines()\n",
    "\n",
    "# 遍历处理每一条数据    \n",
    "for line in lines:\n",
    "    # 利用正则表达式拆分标题和内容\n",
    "    fields = re.split(r\"[:：]\", line)\n",
    "    # 跳过异常数据\n",
    "    if len(fields) != 2:\n",
    "        continue\n",
    "    # 得到诗词内容（后面不需要标题）\n",
    "    content = fields[1]\n",
    "    # 跳过内容过长的诗词\n",
    "    if len(content) > MAX_LEN - 2:\n",
    "        continue\n",
    "    # 跳过存在禁用符的诗词\n",
    "    if any(word in content for word in DISALLOWED_WORDS):\n",
    "        continue\n",
    "\n",
    "    poetry.append(content.replace('\\n', '')) # 最后要记得删除换行符"
   ]
  },
  {
   "cell_type": "code",
   "execution_count": 6,
   "metadata": {},
   "outputs": [],
   "source": [
    "# 最小词频\n",
    "MIN_WORD_FREQUENCY = 8\n",
    "\n",
    "# 统计词频，利用Counter可以直接按单个字符进行统计词频\n",
    "counter = Counter()\n",
    "for line in poetry:\n",
    "    counter.update(line)\n",
    "    \n",
    "# 过滤掉低词频的词\n",
    "tokens = [token for token, count in counter.items() if count >= MIN_WORD_FREQUENCY]    "
   ]
  },
  {
   "cell_type": "code",
   "execution_count": 7,
   "metadata": {},
   "outputs": [],
   "source": [
    "# 补上特殊词标记：填充字符标记、未知词标记、开始标记、结束标记\n",
    "tokens = [\"[PAD]\", \"[NONE]\", \"[START]\", \"[END]\"] + tokens\n",
    "# 映射: 词 -> 编号\n",
    "word_idx = {}\n",
    "idx_word = {}\n",
    "for idx, word in enumerate(tokens):\n",
    "    word_idx[word] = idx\n",
    "    idx_word[idx] = word"
   ]
  },
  {
   "cell_type": "code",
   "execution_count": 9,
   "metadata": {},
   "outputs": [
    {
     "data": {
      "text/plain": [
       "'随'"
      ]
     },
     "execution_count": 9,
     "metadata": {},
     "output_type": "execute_result"
    }
   ],
   "source": [
    "idx_word[5]"
   ]
  },
  {
   "cell_type": "code",
   "execution_count": 10,
   "metadata": {},
   "outputs": [
    {
     "data": {
      "text/plain": [
       "5"
      ]
     },
     "execution_count": 10,
     "metadata": {},
     "output_type": "execute_result"
    }
   ],
   "source": [
    "word_idx['随']"
   ]
  },
  {
   "cell_type": "code",
   "execution_count": 11,
   "metadata": {},
   "outputs": [],
   "source": [
    "class Tokenizer:\n",
    "    \"\"\"\n",
    "    分词器\n",
    "    \"\"\"\n",
    "    def __init__(self, tokens):\n",
    "        # 词汇表大小\n",
    "        self.dict_size = len(tokens)\n",
    "        # 生成映射关系\n",
    "        self.token_id = {} # 映射: 词 -> 编号\n",
    "        self.id_token = {} # 映射: 编号 -> 词\n",
    "        for idx, word in enumerate(tokens):\n",
    "            self.token_id[word] = idx\n",
    "            self.id_token[idx] = word\n",
    "\n",
    "        # 各个特殊标记的编号id，方便其他地方使用\n",
    "        self.start_id = self.token_id[\"[START]\"]\n",
    "        self.end_id = self.token_id[\"[END]\"]\n",
    "        self.none_id = self.token_id[\"[NONE]\"]\n",
    "        self.pad_id = self.token_id[\"[PAD]\"]\n",
    "\n",
    "    def id_to_token(self, token_id):\n",
    "        \"\"\"\n",
    "        编号 -> 词\n",
    "        \"\"\"\n",
    "        return self.id_token.get(token_id)\n",
    "\n",
    "    def token_to_id(self, token):\n",
    "        \"\"\"\n",
    "        词 -> 编号\n",
    "        \"\"\"\n",
    "        return self.token_id.get(token, self.none_id) #编号里没有返回 [NONE]\n",
    "\n",
    "    def encode(self, tokens):\n",
    "        \"\"\"\n",
    "        词列表 -> [START]编号 + 编号列表 + [END]编号，为甚加[END]，这不是应该自己生成的吗\n",
    "        \"\"\"\n",
    "        token_ids = [self.start_id, ] # 起始标记\n",
    "        # 遍历，词转编号\n",
    "        for token in tokens:\n",
    "            token_ids.append(self.token_to_id(token))\n",
    "        token_ids.append(self.end_id) # 结束标记\n",
    "        return token_ids\n",
    "\n",
    "    def decode(self, token_ids):\n",
    "        \"\"\"\n",
    "        编号列表 -> 词列表(去掉起始、结束标记)\n",
    "        \"\"\"\n",
    "        # 起始、结束标记\n",
    "        flag_tokens = {\"[START]\", \"[END]\"}\n",
    "\n",
    "        tokens = []\n",
    "        for idx in token_ids:\n",
    "            token = self.id_to_token(idx)\n",
    "            # 跳过起始、结束标记\n",
    "            if token not in flag_tokens:\n",
    "                tokens.append(token)\n",
    "        return tokens"
   ]
  },
  {
   "cell_type": "code",
   "execution_count": 12,
   "metadata": {},
   "outputs": [],
   "source": [
    "# 完成类\n",
    "tokenizer = Tokenizer(tokens)"
   ]
  },
  {
   "cell_type": "code",
   "execution_count": 13,
   "metadata": {},
   "outputs": [
    {
     "data": {
      "text/plain": [
       "'寒'"
      ]
     },
     "execution_count": 13,
     "metadata": {},
     "output_type": "execute_result"
    }
   ],
   "source": [
    "tokenizer.id_to_token(4)"
   ]
  },
  {
   "cell_type": "code",
   "execution_count": 18,
   "metadata": {},
   "outputs": [],
   "source": [
    "'''\n",
    "构建 DataSet\n",
    "'''\n",
    "class PoetryDataSet:\n",
    "    \"\"\"\n",
    "    古诗数据集生成器\n",
    "    \"\"\"\n",
    "    def __init__(self, data, tokenizer, batch_size):\n",
    "        # 数据集\n",
    "        self.data = data\n",
    "        self.total_size = len(self.data)\n",
    "        # 分词器，用于词转编号\n",
    "        self.tokenizer = tokenizer\n",
    "        # 每批数据量\n",
    "        self.batch_size = batch_size\n",
    "        # 每个epoch迭代的步数\n",
    "        self.steps = int(math.floor(len(self.data) / self.batch_size))\n",
    "\n",
    "    def pad_line(self, line, length, padding=None):\n",
    "        \"\"\"\n",
    "        对齐单行数据\n",
    "        \"\"\"\n",
    "        if padding is None:\n",
    "            padding = self.tokenizer.pad_id\n",
    "\n",
    "        padding_length = length - len(line)\n",
    "        if padding_length > 0:\n",
    "            return line + [padding] * padding_length\n",
    "        else:\n",
    "            return line[:length]\n",
    "\n",
    "    def __len__(self):\n",
    "        return self.steps\n",
    "\n",
    "    def __iter__(self):\n",
    "        # 打乱数据\n",
    "        np.random.shuffle(self.data)\n",
    "        # 迭代一个epoch，每次yield一个batch\n",
    "        for start in range(0, self.total_size, self.batch_size):\n",
    "            end = min(start + self.batch_size, self.total_size)\n",
    "            data = self.data[start:end]\n",
    "            \n",
    "            # map根据提供的函数对指定序列做映射\n",
    "            max_length = max(map(len, data)) \n",
    "\n",
    "            batch_data = []\n",
    "            for str_line in data:\n",
    "                # 对每一行诗词进行编码、并补齐padding\n",
    "                encode_line = self.tokenizer.encode(str_line)\n",
    "                pad_encode_line = self.pad_line(encode_line, max_length + 2) # 加2是因为tokenizer.encode会添加START和END\n",
    "                batch_data.append(pad_encode_line)\n",
    "\n",
    "            batch_data = np.array(batch_data)\n",
    "            # yield 特征、标签\n",
    "            yield batch_data[:, :-1], batch_data[:, 1:]\n",
    "\n",
    "    def generator(self):\n",
    "        while True:\n",
    "            yield from self.__iter__()"
   ]
  },
  {
   "cell_type": "code",
   "execution_count": 19,
   "metadata": {},
   "outputs": [],
   "source": [
    "# 初始化 PoetryDataSet\n",
    "dataset = PoetryDataSet(poetry, tokenizer, BATCH_SIZE)"
   ]
  },
  {
   "cell_type": "code",
   "execution_count": 20,
   "metadata": {},
   "outputs": [
    {
     "name": "stdout",
     "output_type": "stream",
     "text": [
      "Model: \"sequential\"\n",
      "_________________________________________________________________\n",
      "Layer (type)                 Output Shape              Param #   \n",
      "=================================================================\n",
      "embedding (Embedding)        (None, None, 150)         515100    \n",
      "_________________________________________________________________\n",
      "lstm (LSTM)                  (None, None, 150)         180600    \n",
      "_________________________________________________________________\n",
      "lstm_1 (LSTM)                (None, None, 150)         180600    \n",
      "_________________________________________________________________\n",
      "time_distributed (TimeDistri (None, None, 3434)        518534    \n",
      "=================================================================\n",
      "Total params: 1,394,834\n",
      "Trainable params: 1,394,834\n",
      "Non-trainable params: 0\n",
      "_________________________________________________________________\n"
     ]
    }
   ],
   "source": [
    "# 构建模型\n",
    "\n",
    "model = tf.keras.Sequential([\n",
    "    # 词嵌入层\n",
    "    tf.keras.layers.Embedding(input_dim=tokenizer.dict_size, output_dim=150),\n",
    "    # 第一个LSTM层\n",
    "    tf.keras.layers.LSTM(150, dropout=0.5, return_sequences=True),\n",
    "    # 第二个LSTM层\n",
    "    tf.keras.layers.LSTM(150, dropout=0.5, return_sequences=True),\n",
    "    # 利用TimeDistributed对每个时间步的输出都做Dense操作(softmax激活)\n",
    "    tf.keras.layers.TimeDistributed(tf.keras.layers.Dense(tokenizer.dict_size, activation='softmax')),\n",
    "])\n",
    "    \n",
    "model.summary()"
   ]
  },
  {
   "cell_type": "code",
   "execution_count": 21,
   "metadata": {},
   "outputs": [],
   "source": [
    "def predict(model, token_ids):\n",
    "    \"\"\"\n",
    "    在概率值为前100的词中选取一个词(按概率分布的方式)\n",
    "    :return: 一个词的编号(不包含[PAD][NONE][START])\n",
    "    \"\"\"\n",
    "    # 预测各个词的概率分布\n",
    "    # 0  表示对输入的第0个样本做预测\n",
    "    # -1 表示只要对最新的词的预测\n",
    "    # 3: 表示不要前面几个标记符\n",
    "    _probas = model.predict([token_ids, ])[0, -1, 3:]\n",
    "    # 按概率降序，取前100\n",
    "    p_args = _probas.argsort()[-100:][::-1] # 此时拿到的是索引\n",
    "    p = _probas[p_args] # 根据索引找到具体的概率值\n",
    "    p = p / sum(p) # 归一\n",
    "    # 按概率抽取一个\n",
    "    target_index = np.random.choice(len(p), p=p)\n",
    "    # 前面预测时删除了前几个标记符，因此编号要补上3位，才是实际在tokenizer词典中的编号\n",
    "    return p_args[target_index] + 3"
   ]
  },
  {
   "cell_type": "code",
   "execution_count": 22,
   "metadata": {},
   "outputs": [],
   "source": [
    "def generate_random_poem(tokenizer, model, text=\"\"):\n",
    "    \"\"\"\n",
    "    随机生成一首诗\n",
    "    :param tokenizer: 分词器\n",
    "    :param model: 古诗模型\n",
    "    :param text: 古诗的起始字符串，默认为空\n",
    "    :return: 一首古诗的字符串\n",
    "    \"\"\"\n",
    "    # 将初始字符串转成token_ids，并去掉结束标记[END]\n",
    "    token_ids = tokenizer.encode(text)[:-1]\n",
    "    while len(token_ids) < MAX_LEN:\n",
    "        # 预测词的编号\n",
    "        target = predict(model, token_ids)\n",
    "        # 保存结果\n",
    "        token_ids.append(target)\n",
    "        # 到达END\n",
    "        if target == tokenizer.end_id: \n",
    "            break\n",
    "\n",
    "    return \"\".join(tokenizer.decode(token_ids))"
   ]
  },
  {
   "cell_type": "code",
   "execution_count": 23,
   "metadata": {},
   "outputs": [],
   "source": [
    "def generate_acrostic_poem(tokenizer, model, heads):\n",
    "    \"\"\"\n",
    "    生成一首藏头诗\n",
    "    :param tokenizer: 分词器\n",
    "    :param model: 古诗模型\n",
    "    :param heads: 藏头诗的头\n",
    "    :return: 一首古诗的字符串\n",
    "    \"\"\"\n",
    "    # token_ids，只包含[START]编号\n",
    "    token_ids = [tokenizer.start_id, ]\n",
    "    # 逗号和句号标记编号\n",
    "    punctuation_ids = {tokenizer.token_to_id(\"，\"), tokenizer.token_to_id(\"。\")}\n",
    "    content = []\n",
    "    # 为每一个head生成一句诗\n",
    "    for head in heads:\n",
    "        content.append(head)\n",
    "        # head转为编号id，放入列表，用于预测\n",
    "        token_ids.append(tokenizer.token_to_id(head))\n",
    "        # 开始生成一句诗\n",
    "        target = -1;\n",
    "        while target not in punctuation_ids: # 遇到逗号、句号，说明本句结束，开始下一句\n",
    "            # 预测词的编号\n",
    "            target = predict(model, token_ids)\n",
    "            # 因为可能预测到END，所以加个判断\n",
    "            if target > 3:\n",
    "                # 保存结果到token_ids中，下一次预测还要用\n",
    "                token_ids.append(target)\n",
    "                content.append(tokenizer.id_to_token(target))\n",
    "\n",
    "    return \"\".join(content)"
   ]
  },
  {
   "cell_type": "code",
   "execution_count": 25,
   "metadata": {},
   "outputs": [],
   "source": [
    "class ShowSaveCallback(tf.keras.callbacks.Callback):\n",
    "\n",
    "    def __init__(self):\n",
    "        super().__init__()\n",
    "        # 给一个初始最大值\n",
    "        self.loss = float(\"inf\")\n",
    "\n",
    "    def on_epoch_end(self, epoch, logs=None):\n",
    "        # 保留损失最低的模型\n",
    "        if logs['loss'] <= self.loss:\n",
    "            self.loss = logs['loss']\n",
    "            model.save(\"./rnn_model.h5\")\n",
    "        # 查看一下本次训练的效果\n",
    "        print()\n",
    "        for i in range(5):\n",
    "            print(generate_random_poem(tokenizer, model))\n"
   ]
  },
  {
   "cell_type": "code",
   "execution_count": 26,
   "metadata": {},
   "outputs": [
    {
     "name": "stdout",
     "output_type": "stream",
     "text": [
      "Train for 191 steps\n",
      "Epoch 1/10\n",
      "190/191 [============================>.] - ETA: 0s - loss: 5.1105\n",
      "WARNING:tensorflow:5 out of the last 5 calls to <function _make_execution_function.<locals>.distributed_function at 0x00000186925596A8> triggered tf.function retracing. Tracing is expensive and the excessive number of tracings is likely due to passing python objects instead of tensors. Also, tf.function has experimental_relax_shapes=True option that relaxes argument shapes that can avoid unnecessary retracing. Please refer to https://www.tensorflow.org/beta/tutorials/eager/tf_function#python_or_tensor_args and https://www.tensorflow.org/api_docs/python/tf/function for more details.\n",
      "WARNING:tensorflow:6 out of the last 6 calls to <function _make_execution_function.<locals>.distributed_function at 0x00000186925596A8> triggered tf.function retracing. Tracing is expensive and the excessive number of tracings is likely due to passing python objects instead of tensors. Also, tf.function has experimental_relax_shapes=True option that relaxes argument shapes that can avoid unnecessary retracing. Please refer to https://www.tensorflow.org/beta/tutorials/eager/tf_function#python_or_tensor_args and https://www.tensorflow.org/api_docs/python/tf/function for more details.\n",
      "WARNING:tensorflow:7 out of the last 7 calls to <function _make_execution_function.<locals>.distributed_function at 0x00000186925596A8> triggered tf.function retracing. Tracing is expensive and the excessive number of tracings is likely due to passing python objects instead of tensors. Also, tf.function has experimental_relax_shapes=True option that relaxes argument shapes that can avoid unnecessary retracing. Please refer to https://www.tensorflow.org/beta/tutorials/eager/tf_function#python_or_tensor_args and https://www.tensorflow.org/api_docs/python/tf/function for more details.\n",
      "WARNING:tensorflow:8 out of the last 8 calls to <function _make_execution_function.<locals>.distributed_function at 0x00000186925596A8> triggered tf.function retracing. Tracing is expensive and the excessive number of tracings is likely due to passing python objects instead of tensors. Also, tf.function has experimental_relax_shapes=True option that relaxes argument shapes that can avoid unnecessary retracing. Please refer to https://www.tensorflow.org/beta/tutorials/eager/tf_function#python_or_tensor_args and https://www.tensorflow.org/api_docs/python/tf/function for more details.\n",
      "WARNING:tensorflow:9 out of the last 9 calls to <function _make_execution_function.<locals>.distributed_function at 0x00000186925596A8> triggered tf.function retracing. Tracing is expensive and the excessive number of tracings is likely due to passing python objects instead of tensors. Also, tf.function has experimental_relax_shapes=True option that relaxes argument shapes that can avoid unnecessary retracing. Please refer to https://www.tensorflow.org/beta/tutorials/eager/tf_function#python_or_tensor_args and https://www.tensorflow.org/api_docs/python/tf/function for more details.\n",
      "WARNING:tensorflow:10 out of the last 10 calls to <function _make_execution_function.<locals>.distributed_function at 0x00000186925596A8> triggered tf.function retracing. Tracing is expensive and the excessive number of tracings is likely due to passing python objects instead of tensors. Also, tf.function has experimental_relax_shapes=True option that relaxes argument shapes that can avoid unnecessary retracing. Please refer to https://www.tensorflow.org/beta/tutorials/eager/tf_function#python_or_tensor_args and https://www.tensorflow.org/api_docs/python/tf/function for more details.\n",
      "WARNING:tensorflow:11 out of the last 11 calls to <function _make_execution_function.<locals>.distributed_function at 0x00000186925596A8> triggered tf.function retracing. Tracing is expensive and the excessive number of tracings is likely due to passing python objects instead of tensors. Also, tf.function has experimental_relax_shapes=True option that relaxes argument shapes that can avoid unnecessary retracing. Please refer to https://www.tensorflow.org/beta/tutorials/eager/tf_function#python_or_tensor_args and https://www.tensorflow.org/api_docs/python/tf/function for more details.\n",
      "WARNING:tensorflow:11 out of the last 11 calls to <function _make_execution_function.<locals>.distributed_function at 0x00000186925596A8> triggered tf.function retracing. Tracing is expensive and the excessive number of tracings is likely due to passing python objects instead of tensors. Also, tf.function has experimental_relax_shapes=True option that relaxes argument shapes that can avoid unnecessary retracing. Please refer to https://www.tensorflow.org/beta/tutorials/eager/tf_function#python_or_tensor_args and https://www.tensorflow.org/api_docs/python/tf/function for more details.\n",
      "WARNING:tensorflow:11 out of the last 11 calls to <function _make_execution_function.<locals>.distributed_function at 0x00000186925596A8> triggered tf.function retracing. Tracing is expensive and the excessive number of tracings is likely due to passing python objects instead of tensors. Also, tf.function has experimental_relax_shapes=True option that relaxes argument shapes that can avoid unnecessary retracing. Please refer to https://www.tensorflow.org/beta/tutorials/eager/tf_function#python_or_tensor_args and https://www.tensorflow.org/api_docs/python/tf/function for more details.\n",
      "WARNING:tensorflow:11 out of the last 11 calls to <function _make_execution_function.<locals>.distributed_function at 0x00000186925596A8> triggered tf.function retracing. Tracing is expensive and the excessive number of tracings is likely due to passing python objects instead of tensors. Also, tf.function has experimental_relax_shapes=True option that relaxes argument shapes that can avoid unnecessary retracing. Please refer to https://www.tensorflow.org/beta/tutorials/eager/tf_function#python_or_tensor_args and https://www.tensorflow.org/api_docs/python/tf/function for more details.\n",
      "WARNING:tensorflow:11 out of the last 11 calls to <function _make_execution_function.<locals>.distributed_function at 0x00000186925596A8> triggered tf.function retracing. Tracing is expensive and the excessive number of tracings is likely due to passing python objects instead of tensors. Also, tf.function has experimental_relax_shapes=True option that relaxes argument shapes that can avoid unnecessary retracing. Please refer to https://www.tensorflow.org/beta/tutorials/eager/tf_function#python_or_tensor_args and https://www.tensorflow.org/api_docs/python/tf/function for more details.\n",
      "WARNING:tensorflow:11 out of the last 11 calls to <function _make_execution_function.<locals>.distributed_function at 0x00000186925596A8> triggered tf.function retracing. Tracing is expensive and the excessive number of tracings is likely due to passing python objects instead of tensors. Also, tf.function has experimental_relax_shapes=True option that relaxes argument shapes that can avoid unnecessary retracing. Please refer to https://www.tensorflow.org/beta/tutorials/eager/tf_function#python_or_tensor_args and https://www.tensorflow.org/api_docs/python/tf/function for more details.\n",
      "WARNING:tensorflow:11 out of the last 11 calls to <function _make_execution_function.<locals>.distributed_function at 0x00000186925596A8> triggered tf.function retracing. Tracing is expensive and the excessive number of tracings is likely due to passing python objects instead of tensors. Also, tf.function has experimental_relax_shapes=True option that relaxes argument shapes that can avoid unnecessary retracing. Please refer to https://www.tensorflow.org/beta/tutorials/eager/tf_function#python_or_tensor_args and https://www.tensorflow.org/api_docs/python/tf/function for more details.\n",
      "WARNING:tensorflow:11 out of the last 11 calls to <function _make_execution_function.<locals>.distributed_function at 0x00000186925596A8> triggered tf.function retracing. Tracing is expensive and the excessive number of tracings is likely due to passing python objects instead of tensors. Also, tf.function has experimental_relax_shapes=True option that relaxes argument shapes that can avoid unnecessary retracing. Please refer to https://www.tensorflow.org/beta/tutorials/eager/tf_function#python_or_tensor_args and https://www.tensorflow.org/api_docs/python/tf/function for more details.\n"
     ]
    },
    {
     "name": "stdout",
     "output_type": "stream",
     "text": [
      "WARNING:tensorflow:11 out of the last 11 calls to <function _make_execution_function.<locals>.distributed_function at 0x00000186925596A8> triggered tf.function retracing. Tracing is expensive and the excessive number of tracings is likely due to passing python objects instead of tensors. Also, tf.function has experimental_relax_shapes=True option that relaxes argument shapes that can avoid unnecessary retracing. Please refer to https://www.tensorflow.org/beta/tutorials/eager/tf_function#python_or_tensor_args and https://www.tensorflow.org/api_docs/python/tf/function for more details.\n",
      "WARNING:tensorflow:11 out of the last 11 calls to <function _make_execution_function.<locals>.distributed_function at 0x00000186925596A8> triggered tf.function retracing. Tracing is expensive and the excessive number of tracings is likely due to passing python objects instead of tensors. Also, tf.function has experimental_relax_shapes=True option that relaxes argument shapes that can avoid unnecessary retracing. Please refer to https://www.tensorflow.org/beta/tutorials/eager/tf_function#python_or_tensor_args and https://www.tensorflow.org/api_docs/python/tf/function for more details.\n",
      "WARNING:tensorflow:11 out of the last 11 calls to <function _make_execution_function.<locals>.distributed_function at 0x00000186925596A8> triggered tf.function retracing. Tracing is expensive and the excessive number of tracings is likely due to passing python objects instead of tensors. Also, tf.function has experimental_relax_shapes=True option that relaxes argument shapes that can avoid unnecessary retracing. Please refer to https://www.tensorflow.org/beta/tutorials/eager/tf_function#python_or_tensor_args and https://www.tensorflow.org/api_docs/python/tf/function for more details.\n",
      "WARNING:tensorflow:11 out of the last 11 calls to <function _make_execution_function.<locals>.distributed_function at 0x00000186925596A8> triggered tf.function retracing. Tracing is expensive and the excessive number of tracings is likely due to passing python objects instead of tensors. Also, tf.function has experimental_relax_shapes=True option that relaxes argument shapes that can avoid unnecessary retracing. Please refer to https://www.tensorflow.org/beta/tutorials/eager/tf_function#python_or_tensor_args and https://www.tensorflow.org/api_docs/python/tf/function for more details.\n",
      "WARNING:tensorflow:11 out of the last 11 calls to <function _make_execution_function.<locals>.distributed_function at 0x00000186925596A8> triggered tf.function retracing. Tracing is expensive and the excessive number of tracings is likely due to passing python objects instead of tensors. Also, tf.function has experimental_relax_shapes=True option that relaxes argument shapes that can avoid unnecessary retracing. Please refer to https://www.tensorflow.org/beta/tutorials/eager/tf_function#python_or_tensor_args and https://www.tensorflow.org/api_docs/python/tf/function for more details.\n",
      "WARNING:tensorflow:11 out of the last 11 calls to <function _make_execution_function.<locals>.distributed_function at 0x00000186925596A8> triggered tf.function retracing. Tracing is expensive and the excessive number of tracings is likely due to passing python objects instead of tensors. Also, tf.function has experimental_relax_shapes=True option that relaxes argument shapes that can avoid unnecessary retracing. Please refer to https://www.tensorflow.org/beta/tutorials/eager/tf_function#python_or_tensor_args and https://www.tensorflow.org/api_docs/python/tf/function for more details.\n",
      "WARNING:tensorflow:11 out of the last 11 calls to <function _make_execution_function.<locals>.distributed_function at 0x00000186925596A8> triggered tf.function retracing. Tracing is expensive and the excessive number of tracings is likely due to passing python objects instead of tensors. Also, tf.function has experimental_relax_shapes=True option that relaxes argument shapes that can avoid unnecessary retracing. Please refer to https://www.tensorflow.org/beta/tutorials/eager/tf_function#python_or_tensor_args and https://www.tensorflow.org/api_docs/python/tf/function for more details.\n",
      "WARNING:tensorflow:11 out of the last 11 calls to <function _make_execution_function.<locals>.distributed_function at 0x00000186925596A8> triggered tf.function retracing. Tracing is expensive and the excessive number of tracings is likely due to passing python objects instead of tensors. Also, tf.function has experimental_relax_shapes=True option that relaxes argument shapes that can avoid unnecessary retracing. Please refer to https://www.tensorflow.org/beta/tutorials/eager/tf_function#python_or_tensor_args and https://www.tensorflow.org/api_docs/python/tf/function for more details.\n",
      "WARNING:tensorflow:11 out of the last 11 calls to <function _make_execution_function.<locals>.distributed_function at 0x00000186925596A8> triggered tf.function retracing. Tracing is expensive and the excessive number of tracings is likely due to passing python objects instead of tensors. Also, tf.function has experimental_relax_shapes=True option that relaxes argument shapes that can avoid unnecessary retracing. Please refer to https://www.tensorflow.org/beta/tutorials/eager/tf_function#python_or_tensor_args and https://www.tensorflow.org/api_docs/python/tf/function for more details.\n",
      "WARNING:tensorflow:11 out of the last 11 calls to <function _make_execution_function.<locals>.distributed_function at 0x00000186925596A8> triggered tf.function retracing. Tracing is expensive and the excessive number of tracings is likely due to passing python objects instead of tensors. Also, tf.function has experimental_relax_shapes=True option that relaxes argument shapes that can avoid unnecessary retracing. Please refer to https://www.tensorflow.org/beta/tutorials/eager/tf_function#python_or_tensor_args and https://www.tensorflow.org/api_docs/python/tf/function for more details.\n",
      "WARNING:tensorflow:11 out of the last 11 calls to <function _make_execution_function.<locals>.distributed_function at 0x00000186925596A8> triggered tf.function retracing. Tracing is expensive and the excessive number of tracings is likely due to passing python objects instead of tensors. Also, tf.function has experimental_relax_shapes=True option that relaxes argument shapes that can avoid unnecessary retracing. Please refer to https://www.tensorflow.org/beta/tutorials/eager/tf_function#python_or_tensor_args and https://www.tensorflow.org/api_docs/python/tf/function for more details.\n",
      "长水，秋来开，月山。林知高来事君今去白。，。是青，马来。\n",
      "WARNING:tensorflow:5 out of the last 34 calls to <function _make_execution_function.<locals>.distributed_function at 0x00000186925596A8> triggered tf.function retracing. Tracing is expensive and the excessive number of tracings is likely due to passing python objects instead of tensors. Also, tf.function has experimental_relax_shapes=True option that relaxes argument shapes that can avoid unnecessary retracing. Please refer to https://www.tensorflow.org/beta/tutorials/eager/tf_function#python_or_tensor_args and https://www.tensorflow.org/api_docs/python/tf/function for more details.\n",
      "WARNING:tensorflow:6 out of the last 35 calls to <function _make_execution_function.<locals>.distributed_function at 0x00000186925596A8> triggered tf.function retracing. Tracing is expensive and the excessive number of tracings is likely due to passing python objects instead of tensors. Also, tf.function has experimental_relax_shapes=True option that relaxes argument shapes that can avoid unnecessary retracing. Please refer to https://www.tensorflow.org/beta/tutorials/eager/tf_function#python_or_tensor_args and https://www.tensorflow.org/api_docs/python/tf/function for more details.\n",
      "WARNING:tensorflow:7 out of the last 36 calls to <function _make_execution_function.<locals>.distributed_function at 0x00000186925596A8> triggered tf.function retracing. Tracing is expensive and the excessive number of tracings is likely due to passing python objects instead of tensors. Also, tf.function has experimental_relax_shapes=True option that relaxes argument shapes that can avoid unnecessary retracing. Please refer to https://www.tensorflow.org/beta/tutorials/eager/tf_function#python_or_tensor_args and https://www.tensorflow.org/api_docs/python/tf/function for more details.\n"
     ]
    },
    {
     "name": "stdout",
     "output_type": "stream",
     "text": [
      "WARNING:tensorflow:8 out of the last 37 calls to <function _make_execution_function.<locals>.distributed_function at 0x00000186925596A8> triggered tf.function retracing. Tracing is expensive and the excessive number of tracings is likely due to passing python objects instead of tensors. Also, tf.function has experimental_relax_shapes=True option that relaxes argument shapes that can avoid unnecessary retracing. Please refer to https://www.tensorflow.org/beta/tutorials/eager/tf_function#python_or_tensor_args and https://www.tensorflow.org/api_docs/python/tf/function for more details.\n",
      "WARNING:tensorflow:9 out of the last 38 calls to <function _make_execution_function.<locals>.distributed_function at 0x00000186925596A8> triggered tf.function retracing. Tracing is expensive and the excessive number of tracings is likely due to passing python objects instead of tensors. Also, tf.function has experimental_relax_shapes=True option that relaxes argument shapes that can avoid unnecessary retracing. Please refer to https://www.tensorflow.org/beta/tutorials/eager/tf_function#python_or_tensor_args and https://www.tensorflow.org/api_docs/python/tf/function for more details.\n",
      "WARNING:tensorflow:10 out of the last 39 calls to <function _make_execution_function.<locals>.distributed_function at 0x00000186925596A8> triggered tf.function retracing. Tracing is expensive and the excessive number of tracings is likely due to passing python objects instead of tensors. Also, tf.function has experimental_relax_shapes=True option that relaxes argument shapes that can avoid unnecessary retracing. Please refer to https://www.tensorflow.org/beta/tutorials/eager/tf_function#python_or_tensor_args and https://www.tensorflow.org/api_docs/python/tf/function for more details.\n",
      "WARNING:tensorflow:11 out of the last 40 calls to <function _make_execution_function.<locals>.distributed_function at 0x00000186925596A8> triggered tf.function retracing. Tracing is expensive and the excessive number of tracings is likely due to passing python objects instead of tensors. Also, tf.function has experimental_relax_shapes=True option that relaxes argument shapes that can avoid unnecessary retracing. Please refer to https://www.tensorflow.org/beta/tutorials/eager/tf_function#python_or_tensor_args and https://www.tensorflow.org/api_docs/python/tf/function for more details.\n",
      "WARNING:tensorflow:11 out of the last 11 calls to <function _make_execution_function.<locals>.distributed_function at 0x00000186925596A8> triggered tf.function retracing. Tracing is expensive and the excessive number of tracings is likely due to passing python objects instead of tensors. Also, tf.function has experimental_relax_shapes=True option that relaxes argument shapes that can avoid unnecessary retracing. Please refer to https://www.tensorflow.org/beta/tutorials/eager/tf_function#python_or_tensor_args and https://www.tensorflow.org/api_docs/python/tf/function for more details.\n",
      "WARNING:tensorflow:11 out of the last 11 calls to <function _make_execution_function.<locals>.distributed_function at 0x00000186925596A8> triggered tf.function retracing. Tracing is expensive and the excessive number of tracings is likely due to passing python objects instead of tensors. Also, tf.function has experimental_relax_shapes=True option that relaxes argument shapes that can avoid unnecessary retracing. Please refer to https://www.tensorflow.org/beta/tutorials/eager/tf_function#python_or_tensor_args and https://www.tensorflow.org/api_docs/python/tf/function for more details.\n",
      "WARNING:tensorflow:11 out of the last 11 calls to <function _make_execution_function.<locals>.distributed_function at 0x00000186925596A8> triggered tf.function retracing. Tracing is expensive and the excessive number of tracings is likely due to passing python objects instead of tensors. Also, tf.function has experimental_relax_shapes=True option that relaxes argument shapes that can avoid unnecessary retracing. Please refer to https://www.tensorflow.org/beta/tutorials/eager/tf_function#python_or_tensor_args and https://www.tensorflow.org/api_docs/python/tf/function for more details.\n",
      "WARNING:tensorflow:11 out of the last 11 calls to <function _make_execution_function.<locals>.distributed_function at 0x00000186925596A8> triggered tf.function retracing. Tracing is expensive and the excessive number of tracings is likely due to passing python objects instead of tensors. Also, tf.function has experimental_relax_shapes=True option that relaxes argument shapes that can avoid unnecessary retracing. Please refer to https://www.tensorflow.org/beta/tutorials/eager/tf_function#python_or_tensor_args and https://www.tensorflow.org/api_docs/python/tf/function for more details.\n",
      "。清人云出上天风，不不向看出不秋。有。千自酒长秋，出花日，，。同声，生，行独长前别无\n",
      "青秋。重日一，，。风中白为自，酒无处，。，玉独春秋，，，风\n",
      "WARNING:tensorflow:5 out of the last 78 calls to <function _make_execution_function.<locals>.distributed_function at 0x00000186925596A8> triggered tf.function retracing. Tracing is expensive and the excessive number of tracings is likely due to passing python objects instead of tensors. Also, tf.function has experimental_relax_shapes=True option that relaxes argument shapes that can avoid unnecessary retracing. Please refer to https://www.tensorflow.org/beta/tutorials/eager/tf_function#python_or_tensor_args and https://www.tensorflow.org/api_docs/python/tf/function for more details.\n",
      "夜生得道。客生，，酒高看有来生夜夜叶事闲春，未君时，，去，见水月。为一，。白深寒下花来在。一\n",
      "长为，空三，人长，。新生得山，时。\n",
      "191/191 [==============================] - 45s 237ms/step - loss: 5.1068\n",
      "Epoch 2/10\n",
      "190/191 [============================>.] - ETA: 0s - loss: 4.4359\n",
      "东，，朝。中一明，。。寒花。。。人，高。。，人不春寒犹不。东草。，风空深\n",
      "处人。，还。西，。。，有里云天，夜何。花。落，声归山寒。，老，月尽见，来\n",
      "相。玉不。花见草江事，。，事月，风何山，是高事别，城。下，日，落回。。满香来白\n",
      "此。为无无水草风雨花此，水不三别。，，，行白人无山时路月尽有，应。春。。明明不，，未，闲。\n",
      "WARNING:tensorflow:5 out of the last 230 calls to <function _make_execution_function.<locals>.distributed_function at 0x00000186925596A8> triggered tf.function retracing. Tracing is expensive and the excessive number of tracings is likely due to passing python objects instead of tensors. Also, tf.function has experimental_relax_shapes=True option that relaxes argument shapes that can avoid unnecessary retracing. Please refer to https://www.tensorflow.org/beta/tutorials/eager/tf_function#python_or_tensor_args and https://www.tensorflow.org/api_docs/python/tf/function for more details.\n",
      "远，时时日人西，酒。风新，，，，知，何。前。，，中。是，雪，更风月来。有。更。此，。为城。。，在。君\n",
      "191/191 [==============================] - 21s 110ms/step - loss: 4.4354\n",
      "Epoch 3/10\n",
      "190/191 [============================>.] - ETA: 0s - loss: 4.2624\n",
      "一见春云江出情，林前空远去。应寒\n",
      "三江西，青秋月此子，远金君前多重水，一夜，春人路知未\n",
      "一心烟如路年，春石。水，上归人月满人，远深。落草前多风。，雨人雨人花，明月叶中时，去见多不，。不从更\n",
      "WARNING:tensorflow:5 out of the last 151 calls to <function _make_execution_function.<locals>.distributed_function at 0x00000186925596A8> triggered tf.function retracing. Tracing is expensive and the excessive number of tracings is likely due to passing python objects instead of tensors. Also, tf.function has experimental_relax_shapes=True option that relaxes argument shapes that can avoid unnecessary retracing. Please refer to https://www.tensorflow.org/beta/tutorials/eager/tf_function#python_or_tensor_args and https://www.tensorflow.org/api_docs/python/tf/function for more details.\n",
      "WARNING:tensorflow:6 out of the last 152 calls to <function _make_execution_function.<locals>.distributed_function at 0x00000186925596A8> triggered tf.function retracing. Tracing is expensive and the excessive number of tracings is likely due to passing python objects instead of tensors. Also, tf.function has experimental_relax_shapes=True option that relaxes argument shapes that can avoid unnecessary retracing. Please refer to https://www.tensorflow.org/beta/tutorials/eager/tf_function#python_or_tensor_args and https://www.tensorflow.org/api_docs/python/tf/function for more details.\n",
      "WARNING:tensorflow:7 out of the last 153 calls to <function _make_execution_function.<locals>.distributed_function at 0x00000186925596A8> triggered tf.function retracing. Tracing is expensive and the excessive number of tracings is likely due to passing python objects instead of tensors. Also, tf.function has experimental_relax_shapes=True option that relaxes argument shapes that can avoid unnecessary retracing. Please refer to https://www.tensorflow.org/beta/tutorials/eager/tf_function#python_or_tensor_args and https://www.tensorflow.org/api_docs/python/tf/function for more details.\n"
     ]
    },
    {
     "name": "stdout",
     "output_type": "stream",
     "text": [
      "WARNING:tensorflow:8 out of the last 154 calls to <function _make_execution_function.<locals>.distributed_function at 0x00000186925596A8> triggered tf.function retracing. Tracing is expensive and the excessive number of tracings is likely due to passing python objects instead of tensors. Also, tf.function has experimental_relax_shapes=True option that relaxes argument shapes that can avoid unnecessary retracing. Please refer to https://www.tensorflow.org/beta/tutorials/eager/tf_function#python_or_tensor_args and https://www.tensorflow.org/api_docs/python/tf/function for more details.\n",
      "WARNING:tensorflow:9 out of the last 155 calls to <function _make_execution_function.<locals>.distributed_function at 0x00000186925596A8> triggered tf.function retracing. Tracing is expensive and the excessive number of tracings is likely due to passing python objects instead of tensors. Also, tf.function has experimental_relax_shapes=True option that relaxes argument shapes that can avoid unnecessary retracing. Please refer to https://www.tensorflow.org/beta/tutorials/eager/tf_function#python_or_tensor_args and https://www.tensorflow.org/api_docs/python/tf/function for more details.\n",
      "WARNING:tensorflow:10 out of the last 156 calls to <function _make_execution_function.<locals>.distributed_function at 0x00000186925596A8> triggered tf.function retracing. Tracing is expensive and the excessive number of tracings is likely due to passing python objects instead of tensors. Also, tf.function has experimental_relax_shapes=True option that relaxes argument shapes that can avoid unnecessary retracing. Please refer to https://www.tensorflow.org/beta/tutorials/eager/tf_function#python_or_tensor_args and https://www.tensorflow.org/api_docs/python/tf/function for more details.\n",
      "WARNING:tensorflow:11 out of the last 157 calls to <function _make_execution_function.<locals>.distributed_function at 0x00000186925596A8> triggered tf.function retracing. Tracing is expensive and the excessive number of tracings is likely due to passing python objects instead of tensors. Also, tf.function has experimental_relax_shapes=True option that relaxes argument shapes that can avoid unnecessary retracing. Please refer to https://www.tensorflow.org/beta/tutorials/eager/tf_function#python_or_tensor_args and https://www.tensorflow.org/api_docs/python/tf/function for more details.\n",
      "WARNING:tensorflow:11 out of the last 11 calls to <function _make_execution_function.<locals>.distributed_function at 0x00000186925596A8> triggered tf.function retracing. Tracing is expensive and the excessive number of tracings is likely due to passing python objects instead of tensors. Also, tf.function has experimental_relax_shapes=True option that relaxes argument shapes that can avoid unnecessary retracing. Please refer to https://www.tensorflow.org/beta/tutorials/eager/tf_function#python_or_tensor_args and https://www.tensorflow.org/api_docs/python/tf/function for more details.\n",
      "WARNING:tensorflow:11 out of the last 11 calls to <function _make_execution_function.<locals>.distributed_function at 0x00000186925596A8> triggered tf.function retracing. Tracing is expensive and the excessive number of tracings is likely due to passing python objects instead of tensors. Also, tf.function has experimental_relax_shapes=True option that relaxes argument shapes that can avoid unnecessary retracing. Please refer to https://www.tensorflow.org/beta/tutorials/eager/tf_function#python_or_tensor_args and https://www.tensorflow.org/api_docs/python/tf/function for more details.\n",
      "山前石风，上云半月山，色不城。马水日。花叶山。深城旧秋。云寒林深。，秋青飞风雨年。下来闲。一山更流。犹更上。此年不水，无相江。\n",
      "年此年高，雨天飞客。此年雨春入。玉新门出。知家人一。林空新欲。春城城不。\n",
      "191/191 [==============================] - 24s 127ms/step - loss: 4.2615\n",
      "Epoch 4/10\n",
      "190/191 [============================>.] - ETA: 0s - loss: 4.0354\n",
      "时东秋未草，山复人门天。门草花心处，为云竹云色，东山满多见。野无去下人。江入人上老。\n",
      "中国多金年城，风与时空山色。玉下在草长草，自月声月为事，夜一来草客尽。\n",
      "昔自长寒深，清风路在尽。何不无门人，青前生人城。寒为为云外，莫千时见在，坐山去来新。\n",
      "汉云如青重下。寒山不尽天日。清是君秋城客，高上水鸟上心，\n",
      "多白秋水草，有天一落事。明生年月远。日山事在落。山事玉成如，只何明客老。\n",
      "191/191 [==============================] - 19s 97ms/step - loss: 4.0352\n",
      "Epoch 5/10\n",
      "190/191 [============================>.] - ETA: 0s - loss: 3.9229\n",
      "明月草时日，寒道生城路。。道明古上，金君在年，\n",
      "时月一上飞，秋来不长酒。万上有无晚，幽处月无香。，向前风愁，东来有微。为今暮阳尘。\n",
      "柳相道未游，江光云天身。草在白青时，，色欲为情。高在时色来。心山得入色，鸟客年年春。\n",
      "天山花新望，月云未客流。相林独知鸟，花向有落，日酒春稀。闲夜雪月色。花清花出不，此此春有空。\n",
      "大门水何风，西风白寒游。无子不寒，明已来，无水树新。心似生家，天相路月。身闲过愁时，别山年心亲。\n",
      "191/191 [==============================] - 18s 94ms/step - loss: 3.9231\n",
      "Epoch 6/10\n",
      "190/191 [============================>.] - ETA: 0s - loss: 3.8245\n",
      "时水月花门，青时水春斜。自中春人来，花长寒风头。长子一花过，玉应玉多前。\n",
      "朝马相门远远路，欲无来客犹空门。唯君事应无可雪里，高言有看江水秋。\n",
      "自城何得下江，归年朝有自门。谁得生不雨一，人烟何旧在新？\n",
      "十南日路来，白向来几门。若闻深树路，孤客中里鸣。从风客归人，莫时更日来。\n",
      "金草多秋晚，南心何已名。无云春如散，寒山云远风。山空山云雨，夜马人不中。云日自中上，万何归山林。\n",
      "191/191 [==============================] - 18s 93ms/step - loss: 3.8236\n",
      "Epoch 7/10\n",
      "190/191 [============================>.] - ETA: 0s - loss: 3.7631\n",
      "夜下长前万，东门石月春。\n",
      "四望前秋柳，西台青山寒。应天草僧远，谁夜亦一开。鸟国故柳多，云客上有春。此君今在满，\n",
      "东落相白石，山情尽此林。谁朝看里醉，山寒重已。城影已花，林中似清山。坐有春乡时，月是如回明。\n",
      "野年秋山路，深心半城闻。若落一相断，青归向落斜。应从山人日，风里江影回。岂思云客少，莫君天与东。\n",
      "北香东处叶，万光向难情。山人长门远，心鹤不闲年。江月落山雪，风鸟鸟山烟。行花江高道，还恨无秋秋。\n",
      "191/191 [==============================] - 19s 100ms/step - loss: 3.7627\n",
      "Epoch 8/10\n",
      "190/191 [============================>.] - ETA: 0s - loss: 3.7176\n",
      "天峰连色起海，春色空不如。不寞生中地，春上拂云时。野光烟山雨，千竹万阳生。月年见自兴，从此独无看。\n",
      "相知何山，未门古舟。仙如同日，回意到山。神能白者，岂得重期。时年千花，只有九风。远高临路，日我三声。\n",
      "西秋风别上，雨上天中看。坐行多不尽，孤来似长人。\n",
      "紫生临一绝，清人如亦吟。应有黄未此，空时入白衣。海生难山晚，犹香见寒流。归山行中夜，人酒不歌飞。\n",
      "万日不何起，一中是旧家。高山尽烟阔，别风白寒春。唯向同日气，江鸟雁明深。旧峰来何上，谁年犹欲。\n",
      "191/191 [==============================] - 20s 106ms/step - loss: 3.7161\n",
      "Epoch 9/10\n",
      "190/191 [============================>.] - ETA: 0s - loss: 3.6691\n",
      "千花天满意，君酒远还心。应知看客绝，松风故水深。秋流临露断，行云几年光。日林吹叶晚，秋里应行身。\n",
      "几公从君主，千上旧三声。孤路入云上，不爱江国长。江马随人树，春路碧云山。更须非何乐，千客到身人。\n",
      "北人白上事，青地入花衣。玉道从树雪，千时别自微。时因分天醉，幽时寄何乡。东人看地思，三向别金楼。\n",
      "云人来得早，新白草西船。日看千上后，沙寺花月月。深草经来泪，秋时入雁天。白风重江树，远阳旧飞春。\n",
      "城岸无来远，行事不经间。独知当林，不药清开。月高朝玉，几色闲关。\n",
      "191/191 [==============================] - 19s 102ms/step - loss: 3.6685\n",
      "Epoch 10/10\n",
      "190/191 [============================>.] - ETA: 0s - loss: 3.6152\n",
      "远园千处远流人，碧暮吹云月古春。几明何人应入白，一水开愁一夜前。\n",
      "南江花风月，秋林雨春林。新知何恨意，留到复还楼。坐到还闲少，孤城不满家。莫将经门月，不思日行家。\n",
      "不成五风日，长时此去多。遥是千夜下，秋日对谁家。\n",
      "不忆从边客，诗此即堪何。故客归难伴，离时客此期。\n",
      "晚水东春客，归云别无行。古池多无宿，春月自南新。古城水草湿，来生绕花松。无人当树夜，明月照苍流。\n",
      "191/191 [==============================] - 18s 94ms/step - loss: 3.6146\n"
     ]
    },
    {
     "data": {
      "text/plain": [
       "<tensorflow.python.keras.callbacks.History at 0x1868de906a0>"
      ]
     },
     "execution_count": 26,
     "metadata": {},
     "output_type": "execute_result"
    }
   ],
   "source": [
    "model.compile(\n",
    "    optimizer=tf.keras.optimizers.Adam(), \n",
    "    loss=tf.keras.losses.sparse_categorical_crossentropy\n",
    ")\n",
    "\n",
    "# 开始训练\n",
    "model.fit(\n",
    "    dataset.generator(), \n",
    "    steps_per_epoch=dataset.steps, \n",
    "    epochs=10,\n",
    "    callbacks=[ShowSaveCallback()]\n",
    ")"
   ]
  },
  {
   "cell_type": "code",
   "execution_count": 43,
   "metadata": {},
   "outputs": [],
   "source": [
    "# 加载模型\n",
    "model = tf.keras.models.load_model(\"rnn_model.h5\")"
   ]
  },
  {
   "cell_type": "code",
   "execution_count": 49,
   "metadata": {},
   "outputs": [
    {
     "data": {
      "text/plain": [
       "'床前明月光，野树隔庭扉。旧有谁是雁，高人事过吟。多生仙山落，明风望还鱼。自遣无时尽，何家更话来。'"
      ]
     },
     "execution_count": 49,
     "metadata": {},
     "output_type": "execute_result"
    }
   ],
   "source": [
    "generate_random_poem(tokenizer, model, text='床前明月光')"
   ]
  },
  {
   "cell_type": "code",
   "execution_count": 53,
   "metadata": {},
   "outputs": [
    {
     "data": {
      "text/plain": [
       "'深地白霜晚，度日半长舟。学酒随城里，习事无子烟。'"
      ]
     },
     "execution_count": 53,
     "metadata": {},
     "output_type": "execute_result"
    }
   ],
   "source": [
    "generate_acrostic_poem(tokenizer, model, heads='深度学习')"
   ]
  },
  {
   "cell_type": "code",
   "execution_count": null,
   "metadata": {},
   "outputs": [],
   "source": []
  },
  {
   "cell_type": "code",
   "execution_count": null,
   "metadata": {},
   "outputs": [],
   "source": []
  }
 ],
 "metadata": {
  "kernelspec": {
   "display_name": "Python 3",
   "language": "python",
   "name": "python3"
  },
  "language_info": {
   "codemirror_mode": {
    "name": "ipython",
    "version": 3
   },
   "file_extension": ".py",
   "mimetype": "text/x-python",
   "name": "python",
   "nbconvert_exporter": "python",
   "pygments_lexer": "ipython3",
   "version": "3.7.3"
  }
 },
 "nbformat": 4,
 "nbformat_minor": 2
}
